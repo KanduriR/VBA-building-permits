{
 "cells": [
  {
   "cell_type": "code",
   "execution_count": 2,
   "metadata": {},
   "outputs": [],
   "source": [
    "#the data is obtained from the Victoria building authority. https://www.vba.vic.gov.au/about/data\n",
    "import pandas as pd\n",
    "import numpy as np\n",
    "from pandas import DataFrame\n",
    "from pyxlsb import open_workbook as open_xlsb\n",
    "from pyxlsb import convert_date\n",
    "import openpyxl\n",
    "from openpyxl import load_workbook\n",
    "import os\n",
    "from opencage.geocoder import OpenCageGeocode\n",
    "from opencage.geocoder import InvalidInputError, RateLimitExceededError, UnknownError"
   ]
  },
  {
   "cell_type": "code",
   "execution_count": 3,
   "metadata": {},
   "outputs": [],
   "source": [
    "def load_extract_data(filepath):\n",
    "    \n",
    "    df = []\n",
    "    with open_xlsb(filepath) as wb:\n",
    "        with wb.get_sheet('Sheet1') as sheet:\n",
    "            for row in sheet.rows():\n",
    "                df.append([item.v for item in row])\n",
    "                \n",
    "    #first row are the column names         \n",
    "    df = DataFrame(df[1:], columns=df[0])            \n",
    "    \n",
    "    df.columns = [col.capitalize() for col in df.columns]\n",
    "    \n",
    "    #converting the dates from numbers into date format\n",
    "    df['Permit_date'] = df['Permit_date'].apply(lambda x: convert_date(x) if pd.notnull(x) else None)\n",
    "    df['Permit_app_date'] = df['Permit_app_date'].apply(lambda x: convert_date(x) if pd.notnull(x) else None)\n",
    "    \n",
    "    #dropping out the columns not of interest\n",
    "    cols_of_int = ['Permit_stage_number','Permit_date','Permit_app_date','Calculated_levy_amount','Site_street','Site_suburb','Region','Sub_region','Sub_region1','Basis_zone','Basis_now','Basis_bca']\n",
    "    drop_cols = [c for c in df.columns if c not in cols_of_int]\n",
    "    df.drop(columns=drop_cols, inplace=True)\n",
    "    \n",
    "    #converting the data types\n",
    "    df=df.astype({'Permit_stage_number':'int32', 'Basis_now':'category','Basis_bca':'category','Basis_zone':'category'})\n",
    "    \n",
    "    #filtering out the data related to metropolitan region and making a copy of it\n",
    "    metro_df = df[df['Region']=='Metropolitan'].copy()\n",
    "    \n",
    "    #building class simplified\n",
    "    metro_df.loc[:,'_Building_class'] = metro_df['Basis_bca'].apply(lambda x: '10' if x[:2] == '10' else x[:1])\n",
    "    metro_df['_Building_class'] = metro_df['_Building_class'].astype('category')\n",
    "    \n",
    "    return metro_df\n",
    "\n",
    "\n",
    "class geocode:\n",
    "    \n",
    "    def __init__(self):\n",
    "        #create a geocode connection with your key\n",
    "        self.key = '1dead48e815c47049178cdd313a5687c'\n",
    "        self.geocoder = OpenCageGeocode(self.key)\n",
    "        \n",
    "    def geocode_fetch(self, location_list):\n",
    "        geo_df = DataFrame(columns=['latitude','longitude'])\n",
    "        \n",
    "        for loc in location_list:\n",
    "            query = loc+',Victoria,Australia'\n",
    "            try:\n",
    "                results = self.geocoder.geocode(query)\n",
    "                if(results) and len(results):\n",
    "                    geo_df.loc[loc, 'latitude']= results[0]['geometry']['lat']\n",
    "                    geo_df.loc[loc, 'longitude']= results[0]['geometry']['lng']   \n",
    "            except RateLimitExceededError as re:\n",
    "                print(re)   \n",
    "            except UnknownError as ue:\n",
    "                print(ue)\n",
    "            except Exception as e:\n",
    "                print(e)\n",
    "        return geo_df\n",
    "        "
   ]
  },
  {
   "cell_type": "code",
   "execution_count": 11,
   "metadata": {},
   "outputs": [],
   "source": [
    "def save_to_excel(output_file, data, sheets):    \n",
    "    writer = pd.ExcelWriter(output_file, engine = 'openpyxl')\n",
    "    \n",
    "    if(os.path.exists(output_file)):\n",
    "        writer.book = load_workbook(output_file)\n",
    "        writer.sheets = dict((ws.title, ws) for ws in writer.book.worksheets)\n",
    "    \n",
    "    for (dframe,sheet) in zip(data,sheets):\n",
    "        if sheet in writer.sheets.keys():\n",
    "            reader = pd.read_excel(output_file, sheet_name=sheet)\n",
    "            dframe.to_excel(writer, sheet,header = False, startrow =len(reader)+1)\n",
    "        else:\n",
    "            dframe.to_excel(writer, sheet)\n",
    "                   \n",
    "    writer.close()        \n",
    "    return        "
   ]
  },
  {
   "cell_type": "code",
   "execution_count": 5,
   "metadata": {},
   "outputs": [
    {
     "name": "stdout",
     "output_type": "stream",
     "text": [
      "filename - VBA-DataVic-Building-Permits-2018.xlsb\n",
      "input filepath - ./VBA-permits/VBA-DataVic-Building-Permits-2018.xlsb, o/p file path - ./VBA-permits/output/VBA_Metro_permits.xlsx\n",
      "Going to read geocode for 633 suburbs - sit back \n"
     ]
    },
    {
     "ename": "AttributeError",
     "evalue": "module 'os' has no attribute 'file'",
     "output_type": "error",
     "traceback": [
      "\u001b[0;31m---------------------------------------------------------------------------\u001b[0m",
      "\u001b[0;31mAttributeError\u001b[0m                            Traceback (most recent call last)",
      "\u001b[0;32m<ipython-input-5-82d5534abe19>\u001b[0m in \u001b[0;36m<module>\u001b[0;34m\u001b[0m\n\u001b[1;32m     29\u001b[0m \u001b[0;34m\u001b[0m\u001b[0m\n\u001b[1;32m     30\u001b[0m \u001b[0;34m\u001b[0m\u001b[0m\n\u001b[0;32m---> 31\u001b[0;31m     \u001b[0msave_to_excel\u001b[0m\u001b[0;34m(\u001b[0m\u001b[0moutput_file\u001b[0m\u001b[0;34m,\u001b[0m \u001b[0;34m[\u001b[0m\u001b[0mmetro_data\u001b[0m\u001b[0;34m,\u001b[0m \u001b[0mgeocode_data\u001b[0m\u001b[0;34m.\u001b[0m\u001b[0mloc\u001b[0m\u001b[0;34m[\u001b[0m\u001b[0mnew_suburb_list\u001b[0m\u001b[0;34m]\u001b[0m\u001b[0;34m]\u001b[0m\u001b[0;34m,\u001b[0m \u001b[0;34m[\u001b[0m\u001b[0myear\u001b[0m\u001b[0;34m,\u001b[0m \u001b[0;34m'geodata'\u001b[0m\u001b[0;34m]\u001b[0m\u001b[0;34m)\u001b[0m\u001b[0;34m\u001b[0m\u001b[0;34m\u001b[0m\u001b[0m\n\u001b[0m\u001b[1;32m     32\u001b[0m \u001b[0;34m\u001b[0m\u001b[0m\n\u001b[1;32m     33\u001b[0m \u001b[0;34m\u001b[0m\u001b[0m\n",
      "\u001b[0;32m<ipython-input-4-9dc202a1b196>\u001b[0m in \u001b[0;36msave_to_excel\u001b[0;34m(output_file, data, sheets)\u001b[0m\n\u001b[1;32m      2\u001b[0m     \u001b[0mwriter\u001b[0m \u001b[0;34m=\u001b[0m \u001b[0mpd\u001b[0m\u001b[0;34m.\u001b[0m\u001b[0mExcelWriter\u001b[0m\u001b[0;34m(\u001b[0m\u001b[0moutput_file\u001b[0m\u001b[0;34m,\u001b[0m \u001b[0mengine\u001b[0m \u001b[0;34m=\u001b[0m \u001b[0;34m'openpyxl'\u001b[0m\u001b[0;34m)\u001b[0m\u001b[0;34m\u001b[0m\u001b[0;34m\u001b[0m\u001b[0m\n\u001b[1;32m      3\u001b[0m \u001b[0;34m\u001b[0m\u001b[0m\n\u001b[0;32m----> 4\u001b[0;31m     \u001b[0;32mif\u001b[0m\u001b[0;34m(\u001b[0m\u001b[0mos\u001b[0m\u001b[0;34m.\u001b[0m\u001b[0mfile\u001b[0m\u001b[0;34m.\u001b[0m\u001b[0mexists\u001b[0m\u001b[0;34m(\u001b[0m\u001b[0moutput_file\u001b[0m\u001b[0;34m)\u001b[0m\u001b[0;34m)\u001b[0m\u001b[0;34m:\u001b[0m\u001b[0;34m\u001b[0m\u001b[0;34m\u001b[0m\u001b[0m\n\u001b[0m\u001b[1;32m      5\u001b[0m         \u001b[0mwriter\u001b[0m\u001b[0;34m.\u001b[0m\u001b[0mbook\u001b[0m \u001b[0;34m=\u001b[0m \u001b[0mload_workbook\u001b[0m\u001b[0;34m(\u001b[0m\u001b[0moutput_file\u001b[0m\u001b[0;34m)\u001b[0m\u001b[0;34m\u001b[0m\u001b[0;34m\u001b[0m\u001b[0m\n\u001b[1;32m      6\u001b[0m         \u001b[0mwriter\u001b[0m\u001b[0;34m.\u001b[0m\u001b[0msheets\u001b[0m \u001b[0;34m=\u001b[0m \u001b[0mdict\u001b[0m\u001b[0;34m(\u001b[0m\u001b[0;34m(\u001b[0m\u001b[0mws\u001b[0m\u001b[0;34m.\u001b[0m\u001b[0mtitle\u001b[0m\u001b[0;34m,\u001b[0m \u001b[0mws\u001b[0m\u001b[0;34m)\u001b[0m \u001b[0;32mfor\u001b[0m \u001b[0mws\u001b[0m \u001b[0;32min\u001b[0m \u001b[0mwriter\u001b[0m\u001b[0;34m.\u001b[0m\u001b[0mbook\u001b[0m\u001b[0;34m.\u001b[0m\u001b[0mworksheets\u001b[0m\u001b[0;34m)\u001b[0m\u001b[0;34m\u001b[0m\u001b[0;34m\u001b[0m\u001b[0m\n",
      "\u001b[0;31mAttributeError\u001b[0m: module 'os' has no attribute 'file'"
     ]
    }
   ],
   "source": [
    "folder = './VBA-permits'\n",
    "output_file =  folder+'/output/VBA_Metro_permits.xlsx'\n",
    "\n",
    "for file in os.listdir(folder):\n",
    "    \n",
    "    filepath = folder+'/'+file\n",
    "    #get the file name without extension and split to get the last element - year\n",
    "    print('filename - {}'.format(file))\n",
    "    print('input filepath - {}, o/p file path - {}'.format(filepath, output_file))\n",
    "    year = os.path.splitext(file)[0].split('-')[-1]\n",
    "\n",
    "    metro_data = load_extract_data(filepath)\n",
    "    geocode_data = DataFrame()\n",
    "    geoencoder = geocode()\n",
    "    \n",
    "    if(os.path.exists(output_file)):\n",
    "        geocode_data = pd.read_excel(output_file, sheet_name='geodata')\n",
    "        \n",
    "    #get the unique list of suburbs which does not have the geocode data fetched\n",
    "    new_suburb_list = np.setdiff1d(metro_data['Site_suburb'].tolist(), geocode_data.index.tolist())\n",
    "    \n",
    "    #split the new suburb list into 10 groups rather than a big batch\n",
    "    print('Going to read geocode for {} suburbs - sit back '.format(len(new_suburb_list)))\n",
    "    for list_p in np.array_split(new_suburb_list,10):\n",
    "        try:\n",
    "            geocode_data = geocode_data.append(geoencoder.geocode_fetch(list_p))    \n",
    "        except:\n",
    "            print('shape of geocode_data:{}'.format(geocode_data.shape))\n",
    "     \n",
    "    \n",
    "    save_to_excel(output_file, [metro_data, geocode_data.loc[new_suburb_list]], [year, 'geodata']) \n",
    "    \n",
    "    \n"
   ]
  },
  {
   "cell_type": "code",
   "execution_count": 13,
   "metadata": {},
   "outputs": [],
   "source": [
    "save_to_excel(output_file, [metro_data, geocode_data.loc[new_suburb_list]], [year, 'geodata'])"
   ]
  },
  {
   "cell_type": "code",
   "execution_count": null,
   "metadata": {},
   "outputs": [],
   "source": []
  },
  {
   "cell_type": "code",
   "execution_count": null,
   "metadata": {},
   "outputs": [],
   "source": []
  },
  {
   "cell_type": "code",
   "execution_count": null,
   "metadata": {},
   "outputs": [],
   "source": []
  }
 ],
 "metadata": {
  "kernelspec": {
   "display_name": "Python 3",
   "language": "python",
   "name": "python3"
  },
  "language_info": {
   "codemirror_mode": {
    "name": "ipython",
    "version": 3
   },
   "file_extension": ".py",
   "mimetype": "text/x-python",
   "name": "python",
   "nbconvert_exporter": "python",
   "pygments_lexer": "ipython3",
   "version": "3.7.3"
  }
 },
 "nbformat": 4,
 "nbformat_minor": 2
}
